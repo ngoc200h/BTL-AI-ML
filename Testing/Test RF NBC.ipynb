{
 "cells": [
  {
   "cell_type": "code",
   "execution_count": 1,
   "id": "d094650e-a1b0-43ac-9e4c-2bb7086d7270",
   "metadata": {
    "tags": []
   },
   "outputs": [],
   "source": [
    "import numpy as np\n",
    "import pandas as pd\n",
    "import matplotlib.pyplot as plt\n",
    "import seaborn as sns\n",
    "\n",
    "import string\n",
    "import nltk\n",
    "from nltk import tokenize\n",
    "from nltk.corpus import stopwords\n",
    "from nltk.stem import WordNetLemmatizer\n",
    "\n",
    "from sklearn.feature_extraction.text import CountVectorizer, TfidfVectorizer\n",
    "from sklearn.model_selection import train_test_split\n",
    "from sklearn.preprocessing import LabelEncoder\n",
    "from sklearn.ensemble import RandomForestClassifier\n",
    "from sklearn.naive_bayes import MultinomialNB\n",
    "from sklearn.metrics import accuracy_score,precision_score,recall_score,confusion_matrix,roc_curve,classification_report"
   ]
  },
  {
   "cell_type": "code",
   "execution_count": 2,
   "id": "0ba849cf-1db8-41a2-8a55-4571c3583656",
   "metadata": {
    "tags": []
   },
   "outputs": [],
   "source": [
    "import warnings\n",
    "warnings.filterwarnings('ignore')"
   ]
  },
  {
   "cell_type": "code",
   "execution_count": 3,
   "id": "f01f8129-9776-409c-8185-7d7dfdd7119b",
   "metadata": {
    "tags": []
   },
   "outputs": [
    {
     "name": "stderr",
     "output_type": "stream",
     "text": [
      "[nltk_data] Downloading package omw-1.4 to /Users/macbook/nltk_data...\n",
      "[nltk_data]   Package omw-1.4 is already up-to-date!\n"
     ]
    },
    {
     "data": {
      "text/plain": [
       "True"
      ]
     },
     "execution_count": 3,
     "metadata": {},
     "output_type": "execute_result"
    }
   ],
   "source": [
    "import nltk\n",
    "nltk.download('omw-1.4')"
   ]
  },
  {
   "cell_type": "code",
   "execution_count": 4,
   "id": "a37ccec6-3ca1-438c-817f-d0b639ef90b2",
   "metadata": {
    "tags": []
   },
   "outputs": [
    {
     "data": {
      "text/html": [
       "<div>\n",
       "<style scoped>\n",
       "    .dataframe tbody tr th:only-of-type {\n",
       "        vertical-align: middle;\n",
       "    }\n",
       "\n",
       "    .dataframe tbody tr th {\n",
       "        vertical-align: top;\n",
       "    }\n",
       "\n",
       "    .dataframe thead th {\n",
       "        text-align: right;\n",
       "    }\n",
       "</style>\n",
       "<table border=\"1\" class=\"dataframe\">\n",
       "  <thead>\n",
       "    <tr style=\"text-align: right;\">\n",
       "      <th></th>\n",
       "      <th>Unnamed: 0</th>\n",
       "      <th>source</th>\n",
       "      <th>review_description</th>\n",
       "      <th>rating</th>\n",
       "      <th>review_date</th>\n",
       "    </tr>\n",
       "  </thead>\n",
       "  <tbody>\n",
       "    <tr>\n",
       "      <th>0</th>\n",
       "      <td>0</td>\n",
       "      <td>Google Play</td>\n",
       "      <td>thread meta fantastic app staying connected cl...</td>\n",
       "      <td>5</td>\n",
       "      <td>2024-01-03 10:16:17</td>\n",
       "    </tr>\n",
       "    <tr>\n",
       "      <th>1</th>\n",
       "      <td>1</td>\n",
       "      <td>Google Play</td>\n",
       "      <td>nothing scammer trust</td>\n",
       "      <td>1</td>\n",
       "      <td>2024-01-01 13:36:11</td>\n",
       "    </tr>\n",
       "    <tr>\n",
       "      <th>2</th>\n",
       "      <td>2</td>\n",
       "      <td>Google Play</td>\n",
       "      <td>awesome</td>\n",
       "      <td>5</td>\n",
       "      <td>2023-12-17 22:40:19</td>\n",
       "    </tr>\n",
       "    <tr>\n",
       "      <th>3</th>\n",
       "      <td>3</td>\n",
       "      <td>Google Play</td>\n",
       "      <td>nice app</td>\n",
       "      <td>3</td>\n",
       "      <td>2023-12-14 01:49:26</td>\n",
       "    </tr>\n",
       "    <tr>\n",
       "      <th>4</th>\n",
       "      <td>4</td>\n",
       "      <td>Google Play</td>\n",
       "      <td>great alternative twitter x</td>\n",
       "      <td>5</td>\n",
       "      <td>2023-12-08 19:32:42</td>\n",
       "    </tr>\n",
       "    <tr>\n",
       "      <th>5</th>\n",
       "      <td>5</td>\n",
       "      <td>Google Play</td>\n",
       "      <td>soild</td>\n",
       "      <td>5</td>\n",
       "      <td>2023-12-08 19:14:14</td>\n",
       "    </tr>\n",
       "    <tr>\n",
       "      <th>6</th>\n",
       "      <td>6</td>\n",
       "      <td>Google Play</td>\n",
       "      <td>really good</td>\n",
       "      <td>5</td>\n",
       "      <td>2023-12-08 18:56:58</td>\n",
       "    </tr>\n",
       "    <tr>\n",
       "      <th>7</th>\n",
       "      <td>7</td>\n",
       "      <td>Google Play</td>\n",
       "      <td>excellent</td>\n",
       "      <td>5</td>\n",
       "      <td>2023-12-08 18:28:56</td>\n",
       "    </tr>\n",
       "    <tr>\n",
       "      <th>8</th>\n",
       "      <td>8</td>\n",
       "      <td>Google Play</td>\n",
       "      <td>social medium platform rife bot cat-fish type ...</td>\n",
       "      <td>1</td>\n",
       "      <td>2023-12-08 17:56:30</td>\n",
       "    </tr>\n",
       "    <tr>\n",
       "      <th>9</th>\n",
       "      <td>9</td>\n",
       "      <td>Google Play</td>\n",
       "      <td>freedom</td>\n",
       "      <td>1</td>\n",
       "      <td>2023-12-08 17:54:12</td>\n",
       "    </tr>\n",
       "  </tbody>\n",
       "</table>\n",
       "</div>"
      ],
      "text/plain": [
       "   Unnamed: 0       source                                 review_description  \\\n",
       "0           0  Google Play  thread meta fantastic app staying connected cl...   \n",
       "1           1  Google Play                              nothing scammer trust   \n",
       "2           2  Google Play                                            awesome   \n",
       "3           3  Google Play                                           nice app   \n",
       "4           4  Google Play                        great alternative twitter x   \n",
       "5           5  Google Play                                              soild   \n",
       "6           6  Google Play                                        really good   \n",
       "7           7  Google Play                                          excellent   \n",
       "8           8  Google Play  social medium platform rife bot cat-fish type ...   \n",
       "9           9  Google Play                                            freedom   \n",
       "\n",
       "   rating          review_date  \n",
       "0       5  2024-01-03 10:16:17  \n",
       "1       1  2024-01-01 13:36:11  \n",
       "2       5  2023-12-17 22:40:19  \n",
       "3       3  2023-12-14 01:49:26  \n",
       "4       5  2023-12-08 19:32:42  \n",
       "5       5  2023-12-08 19:14:14  \n",
       "6       5  2023-12-08 18:56:58  \n",
       "7       5  2023-12-08 18:28:56  \n",
       "8       1  2023-12-08 17:56:30  \n",
       "9       1  2023-12-08 17:54:12  "
      ]
     },
     "execution_count": 4,
     "metadata": {},
     "output_type": "execute_result"
    }
   ],
   "source": [
    "data = pd.read_csv('cleaned_data.csv')\n",
    "data.head(10)"
   ]
  },
  {
   "cell_type": "code",
   "execution_count": 6,
   "id": "878eeb30-d824-4e54-8205-b60adf931659",
   "metadata": {
    "tags": []
   },
   "outputs": [],
   "source": [
    "# Assuming df is your DataFrame\n",
    "data = data.dropna()"
   ]
  },
  {
   "cell_type": "code",
   "execution_count": 7,
   "id": "020ef547-3554-4acb-8221-82d160a9b60f",
   "metadata": {
    "tags": []
   },
   "outputs": [
    {
     "data": {
      "text/html": [
       "<div>\n",
       "<style scoped>\n",
       "    .dataframe tbody tr th:only-of-type {\n",
       "        vertical-align: middle;\n",
       "    }\n",
       "\n",
       "    .dataframe tbody tr th {\n",
       "        vertical-align: top;\n",
       "    }\n",
       "\n",
       "    .dataframe thead th {\n",
       "        text-align: right;\n",
       "    }\n",
       "</style>\n",
       "<table border=\"1\" class=\"dataframe\">\n",
       "  <thead>\n",
       "    <tr style=\"text-align: right;\">\n",
       "      <th></th>\n",
       "      <th>Unnamed: 0</th>\n",
       "      <th>source</th>\n",
       "      <th>review_description</th>\n",
       "      <th>rating</th>\n",
       "      <th>review_date</th>\n",
       "    </tr>\n",
       "  </thead>\n",
       "  <tbody>\n",
       "    <tr>\n",
       "      <th>0</th>\n",
       "      <td>0</td>\n",
       "      <td>Google Play</td>\n",
       "      <td>thread meta fantastic app staying connected cl...</td>\n",
       "      <td>Positive</td>\n",
       "      <td>2024-01-03 10:16:17</td>\n",
       "    </tr>\n",
       "    <tr>\n",
       "      <th>1</th>\n",
       "      <td>1</td>\n",
       "      <td>Google Play</td>\n",
       "      <td>nothing scammer trust</td>\n",
       "      <td>Negative</td>\n",
       "      <td>2024-01-01 13:36:11</td>\n",
       "    </tr>\n",
       "    <tr>\n",
       "      <th>2</th>\n",
       "      <td>2</td>\n",
       "      <td>Google Play</td>\n",
       "      <td>awesome</td>\n",
       "      <td>Positive</td>\n",
       "      <td>2023-12-17 22:40:19</td>\n",
       "    </tr>\n",
       "    <tr>\n",
       "      <th>3</th>\n",
       "      <td>3</td>\n",
       "      <td>Google Play</td>\n",
       "      <td>nice app</td>\n",
       "      <td>Neutral</td>\n",
       "      <td>2023-12-14 01:49:26</td>\n",
       "    </tr>\n",
       "    <tr>\n",
       "      <th>4</th>\n",
       "      <td>4</td>\n",
       "      <td>Google Play</td>\n",
       "      <td>great alternative twitter x</td>\n",
       "      <td>Positive</td>\n",
       "      <td>2023-12-08 19:32:42</td>\n",
       "    </tr>\n",
       "    <tr>\n",
       "      <th>...</th>\n",
       "      <td>...</td>\n",
       "      <td>...</td>\n",
       "      <td>...</td>\n",
       "      <td>...</td>\n",
       "      <td>...</td>\n",
       "    </tr>\n",
       "    <tr>\n",
       "      <th>45280</th>\n",
       "      <td>2195</td>\n",
       "      <td>App Store</td>\n",
       "      <td>many false information cant ignore cant hide r...</td>\n",
       "      <td>Negative</td>\n",
       "      <td>2023-12-13 19:25:04</td>\n",
       "    </tr>\n",
       "    <tr>\n",
       "      <th>45281</th>\n",
       "      <td>2196</td>\n",
       "      <td>App Store</td>\n",
       "      <td>app malfunction constantly wont let post anyth...</td>\n",
       "      <td>Negative</td>\n",
       "      <td>2023-12-13 03:01:16</td>\n",
       "    </tr>\n",
       "    <tr>\n",
       "      <th>45282</th>\n",
       "      <td>2197</td>\n",
       "      <td>App Store</td>\n",
       "      <td>thread messaging thread weaving fabric life</td>\n",
       "      <td>Positive</td>\n",
       "      <td>2023-11-29 13:49:52</td>\n",
       "    </tr>\n",
       "    <tr>\n",
       "      <th>45283</th>\n",
       "      <td>2198</td>\n",
       "      <td>App Store</td>\n",
       "      <td>white house need account</td>\n",
       "      <td>Positive</td>\n",
       "      <td>2023-11-27 18:51:49</td>\n",
       "    </tr>\n",
       "    <tr>\n",
       "      <th>45284</th>\n",
       "      <td>2199</td>\n",
       "      <td>App Store</td>\n",
       "      <td>see thread great way increase steady messaging...</td>\n",
       "      <td>Positive</td>\n",
       "      <td>2023-11-19 12:21:03</td>\n",
       "    </tr>\n",
       "  </tbody>\n",
       "</table>\n",
       "<p>45284 rows × 5 columns</p>\n",
       "</div>"
      ],
      "text/plain": [
       "       Unnamed: 0       source  \\\n",
       "0               0  Google Play   \n",
       "1               1  Google Play   \n",
       "2               2  Google Play   \n",
       "3               3  Google Play   \n",
       "4               4  Google Play   \n",
       "...           ...          ...   \n",
       "45280        2195    App Store   \n",
       "45281        2196    App Store   \n",
       "45282        2197    App Store   \n",
       "45283        2198    App Store   \n",
       "45284        2199    App Store   \n",
       "\n",
       "                                      review_description    rating  \\\n",
       "0      thread meta fantastic app staying connected cl...  Positive   \n",
       "1                                  nothing scammer trust  Negative   \n",
       "2                                                awesome  Positive   \n",
       "3                                               nice app   Neutral   \n",
       "4                            great alternative twitter x  Positive   \n",
       "...                                                  ...       ...   \n",
       "45280  many false information cant ignore cant hide r...  Negative   \n",
       "45281  app malfunction constantly wont let post anyth...  Negative   \n",
       "45282        thread messaging thread weaving fabric life  Positive   \n",
       "45283                           white house need account  Positive   \n",
       "45284  see thread great way increase steady messaging...  Positive   \n",
       "\n",
       "               review_date  \n",
       "0      2024-01-03 10:16:17  \n",
       "1      2024-01-01 13:36:11  \n",
       "2      2023-12-17 22:40:19  \n",
       "3      2023-12-14 01:49:26  \n",
       "4      2023-12-08 19:32:42  \n",
       "...                    ...  \n",
       "45280  2023-12-13 19:25:04  \n",
       "45281  2023-12-13 03:01:16  \n",
       "45282  2023-11-29 13:49:52  \n",
       "45283  2023-11-27 18:51:49  \n",
       "45284  2023-11-19 12:21:03  \n",
       "\n",
       "[45284 rows x 5 columns]"
      ]
     },
     "execution_count": 7,
     "metadata": {},
     "output_type": "execute_result"
    }
   ],
   "source": [
    "#df['rating']=df['rating'].map({1:-1,2:-1,3:0,4:1,5:1})\n",
    "data['rating']=data['rating'].map({1:'Negative',2:'Negative',3:'Neutral',4:'Positive',5:'Positive'})\n",
    "data"
   ]
  },
  {
   "cell_type": "code",
   "execution_count": 8,
   "id": "20e647bb-fb0c-4805-a336-637262597e30",
   "metadata": {
    "tags": []
   },
   "outputs": [
    {
     "data": {
      "text/plain": [
       "((33963,), (11321,), (33963,), (11321,))"
      ]
     },
     "execution_count": 8,
     "metadata": {},
     "output_type": "execute_result"
    }
   ],
   "source": [
    "X = data['review_description']\n",
    "y = data['rating']\n",
    "\n",
    "X_train, X_test, y_train, y_test = train_test_split(X, y, test_size=0.25, random_state=40)\n",
    "X_train.shape, X_test.shape, y_train.shape, y_test.shape"
   ]
  },
  {
   "cell_type": "code",
   "execution_count": 9,
   "id": "6e47b7db-6124-4c26-a842-9bab9c26bff8",
   "metadata": {
    "tags": []
   },
   "outputs": [],
   "source": [
    "le = LabelEncoder()\n",
    "le.fit(y_train)\n",
    "y_train = le.transform(y_train)\n",
    "y_test = le.transform(y_test)"
   ]
  },
  {
   "cell_type": "code",
   "execution_count": 10,
   "id": "26ad60ad-5602-4fd2-bc11-5266c233bcbb",
   "metadata": {
    "tags": []
   },
   "outputs": [],
   "source": [
    "cv = CountVectorizer()\n",
    "cv.fit(X_train)\n",
    "X_train_count = cv.transform(X_train)\n",
    "X_test_count = cv.transform(X_test)"
   ]
  },
  {
   "cell_type": "code",
   "execution_count": 11,
   "id": "147df681-3876-412d-8834-850ec7b5194e",
   "metadata": {
    "tags": []
   },
   "outputs": [],
   "source": [
    "tfidf = TfidfVectorizer(analyzer='char', ngram_range=(2,3))\n",
    "tfidf.fit(X_train)\n",
    "X_train_tfidf = tfidf.transform(X_train)\n",
    "X_test_tfidf = tfidf.transform(X_test)"
   ]
  },
  {
   "cell_type": "code",
   "execution_count": 12,
   "id": "6a3f9070-d397-49ec-8418-a2aba2106938",
   "metadata": {
    "tags": []
   },
   "outputs": [
    {
     "name": "stdout",
     "output_type": "stream",
     "text": [
      "Random Forest Classifier on Count Vectors: 0.7825280452256868\n"
     ]
    }
   ],
   "source": [
    "rf1 = RandomForestClassifier()\n",
    "rf1.fit(X_train_count, y_train)\n",
    "rf_cv = rf1.score(X_test_count, y_test)\n",
    "print(f'Random Forest Classifier on Count Vectors: {rf_cv}')"
   ]
  },
  {
   "cell_type": "code",
   "execution_count": 13,
   "id": "17eb0f25-1024-490d-9425-8e302d8d432e",
   "metadata": {
    "tags": []
   },
   "outputs": [
    {
     "name": "stdout",
     "output_type": "stream",
     "text": [
      "Random Forest Classifier on TF-IDF Vectors: 0.7836763536790036\n"
     ]
    }
   ],
   "source": [
    "rf2 = RandomForestClassifier()\n",
    "rf2.fit(X_train_tfidf, y_train)\n",
    "rf_tfidf = rf2.score(X_test_tfidf, y_test)\n",
    "print(f'Random Forest Classifier on TF-IDF Vectors: {rf_tfidf}')"
   ]
  },
  {
   "cell_type": "code",
   "execution_count": 14,
   "id": "5368addc-cbaf-4542-9ff0-a7e43f4b1a9a",
   "metadata": {
    "tags": []
   },
   "outputs": [
    {
     "name": "stdout",
     "output_type": "stream",
     "text": [
      "Multinomial Naive Bayes Classifier on Count Vectors: 0.7923328327886229\n"
     ]
    }
   ],
   "source": [
    "mnb1 = MultinomialNB()\n",
    "mnb1.fit(X_train_count, y_train)\n",
    "mnb_cv = mnb1.score(X_test_count, y_test)\n",
    "print(f'Multinomial Naive Bayes Classifier on Count Vectors: {mnb_cv}')"
   ]
  },
  {
   "cell_type": "code",
   "execution_count": 15,
   "id": "bcef6369-0fcc-4bc8-b569-4edd5251a5d3",
   "metadata": {
    "tags": []
   },
   "outputs": [
    {
     "name": "stdout",
     "output_type": "stream",
     "text": [
      "Multinomial Naive Bayes Classifier on TF-IDF Vectors: 0.7546153166681389\n"
     ]
    }
   ],
   "source": [
    "mnb2 = MultinomialNB()\n",
    "mnb2.fit(X_train_tfidf, y_train)\n",
    "mnb_tfidf = mnb2.score(X_test_tfidf, y_test)\n",
    "print(f'Multinomial Naive Bayes Classifier on TF-IDF Vectors: {mnb_tfidf}')"
   ]
  },
  {
   "cell_type": "code",
   "execution_count": 16,
   "id": "e2581e82-dfb9-4651-8aa4-8c390c6a7b9b",
   "metadata": {
    "tags": []
   },
   "outputs": [
    {
     "data": {
      "text/html": [
       "<div>\n",
       "<style scoped>\n",
       "    .dataframe tbody tr th:only-of-type {\n",
       "        vertical-align: middle;\n",
       "    }\n",
       "\n",
       "    .dataframe tbody tr th {\n",
       "        vertical-align: top;\n",
       "    }\n",
       "\n",
       "    .dataframe thead th {\n",
       "        text-align: right;\n",
       "    }\n",
       "</style>\n",
       "<table border=\"1\" class=\"dataframe\">\n",
       "  <thead>\n",
       "    <tr style=\"text-align: right;\">\n",
       "      <th></th>\n",
       "      <th>Model</th>\n",
       "      <th>Score</th>\n",
       "    </tr>\n",
       "  </thead>\n",
       "  <tbody>\n",
       "    <tr>\n",
       "      <th>0</th>\n",
       "      <td>RandomForestClassifier-CountVectors</td>\n",
       "      <td>0.782528</td>\n",
       "    </tr>\n",
       "    <tr>\n",
       "      <th>1</th>\n",
       "      <td>RandomForestClassifier-TFIDFVectors</td>\n",
       "      <td>0.783676</td>\n",
       "    </tr>\n",
       "    <tr>\n",
       "      <th>2</th>\n",
       "      <td>MultinomialNBClassifier-CountVectors</td>\n",
       "      <td>0.792333</td>\n",
       "    </tr>\n",
       "    <tr>\n",
       "      <th>3</th>\n",
       "      <td>MultinomialNBClassifier-TFIDFVectors</td>\n",
       "      <td>0.754615</td>\n",
       "    </tr>\n",
       "  </tbody>\n",
       "</table>\n",
       "</div>"
      ],
      "text/plain": [
       "                                  Model     Score\n",
       "0   RandomForestClassifier-CountVectors  0.782528\n",
       "1   RandomForestClassifier-TFIDFVectors  0.783676\n",
       "2  MultinomialNBClassifier-CountVectors  0.792333\n",
       "3  MultinomialNBClassifier-TFIDFVectors  0.754615"
      ]
     },
     "execution_count": 16,
     "metadata": {},
     "output_type": "execute_result"
    }
   ],
   "source": [
    "model = {'Model':['RandomForestClassifier-CountVectors',\n",
    "                  'RandomForestClassifier-TFIDFVectors',\n",
    "                  'MultinomialNBClassifier-CountVectors',\n",
    "                  'MultinomialNBClassifier-TFIDFVectors'],\n",
    "         'Score':[rf_cv, rf_tfidf, mnb_cv, mnb_tfidf]\n",
    "         }\n",
    "model_df = pd.DataFrame(model)\n",
    "model_df"
   ]
  },
  {
   "cell_type": "code",
   "execution_count": null,
   "id": "bf82ea54-3af5-493c-b7da-0cadd68f87a4",
   "metadata": {},
   "outputs": [],
   "source": []
  }
 ],
 "metadata": {
  "kernelspec": {
   "display_name": "Python 3 (ipykernel)",
   "language": "python",
   "name": "python3"
  },
  "language_info": {
   "codemirror_mode": {
    "name": "ipython",
    "version": 3
   },
   "file_extension": ".py",
   "mimetype": "text/x-python",
   "name": "python",
   "nbconvert_exporter": "python",
   "pygments_lexer": "ipython3",
   "version": "3.11.5"
  }
 },
 "nbformat": 4,
 "nbformat_minor": 5
}
