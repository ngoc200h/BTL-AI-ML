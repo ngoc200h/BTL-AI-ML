{
 "cells": [
  {
   "cell_type": "markdown",
   "id": "a242997f-4437-4e64-8aa5-a66cb29f5d9b",
   "metadata": {},
   "source": [
    "https://www.kaggle.com/code/robikscube/sentiment-analysis-python-youtube-tutorial/notebook"
   ]
  },
  {
   "cell_type": "code",
   "execution_count": 1,
   "id": "f94fe247-de8d-44eb-9576-8dd1ccf143ec",
   "metadata": {},
   "outputs": [],
   "source": [
    "import pandas as pd\n",
    "import numpy as np\n",
    "import matplotlib.pyplot as plt\n",
    "import seaborn as sns\n",
    "\n",
    "plt.style.use('ggplot')\n",
    "\n",
    "import nltk"
   ]
  },
  {
   "cell_type": "code",
   "execution_count": 2,
   "id": "9d1393a3-f746-4c6b-bb05-128f2b9a7ca4",
   "metadata": {},
   "outputs": [
    {
     "name": "stdout",
     "output_type": "stream",
     "text": [
      "(45285, 5)\n",
      "(500, 5)\n"
     ]
    }
   ],
   "source": [
    "# Read in data\n",
    "df = pd.read_csv('cleaned_data.csv')\n",
    "print(df.shape)\n",
    "df = df.head(500)\n",
    "print(df.shape)"
   ]
  },
  {
   "cell_type": "code",
   "execution_count": 37,
   "id": "4c391a4f-4006-4e4a-a9de-10285eccb978",
   "metadata": {},
   "outputs": [
    {
     "data": {
      "text/html": [
       "<div>\n",
       "<style scoped>\n",
       "    .dataframe tbody tr th:only-of-type {\n",
       "        vertical-align: middle;\n",
       "    }\n",
       "\n",
       "    .dataframe tbody tr th {\n",
       "        vertical-align: top;\n",
       "    }\n",
       "\n",
       "    .dataframe thead th {\n",
       "        text-align: right;\n",
       "    }\n",
       "</style>\n",
       "<table border=\"1\" class=\"dataframe\">\n",
       "  <thead>\n",
       "    <tr style=\"text-align: right;\">\n",
       "      <th></th>\n",
       "      <th>Unnamed: 0</th>\n",
       "      <th>source</th>\n",
       "      <th>review_description</th>\n",
       "      <th>rating</th>\n",
       "      <th>review_date</th>\n",
       "    </tr>\n",
       "  </thead>\n",
       "  <tbody>\n",
       "    <tr>\n",
       "      <th>0</th>\n",
       "      <td>0</td>\n",
       "      <td>Google Play</td>\n",
       "      <td>thread meta fantastic app staying connected cl...</td>\n",
       "      <td>5</td>\n",
       "      <td>2024-01-03 10:16:17</td>\n",
       "    </tr>\n",
       "    <tr>\n",
       "      <th>1</th>\n",
       "      <td>1</td>\n",
       "      <td>Google Play</td>\n",
       "      <td>nothing scammer trust</td>\n",
       "      <td>1</td>\n",
       "      <td>2024-01-01 13:36:11</td>\n",
       "    </tr>\n",
       "    <tr>\n",
       "      <th>2</th>\n",
       "      <td>2</td>\n",
       "      <td>Google Play</td>\n",
       "      <td>awesome</td>\n",
       "      <td>5</td>\n",
       "      <td>2023-12-17 22:40:19</td>\n",
       "    </tr>\n",
       "    <tr>\n",
       "      <th>3</th>\n",
       "      <td>3</td>\n",
       "      <td>Google Play</td>\n",
       "      <td>nice app</td>\n",
       "      <td>3</td>\n",
       "      <td>2023-12-14 01:49:26</td>\n",
       "    </tr>\n",
       "    <tr>\n",
       "      <th>4</th>\n",
       "      <td>4</td>\n",
       "      <td>Google Play</td>\n",
       "      <td>great alternative twitter x</td>\n",
       "      <td>5</td>\n",
       "      <td>2023-12-08 19:32:42</td>\n",
       "    </tr>\n",
       "    <tr>\n",
       "      <th>...</th>\n",
       "      <td>...</td>\n",
       "      <td>...</td>\n",
       "      <td>...</td>\n",
       "      <td>...</td>\n",
       "      <td>...</td>\n",
       "    </tr>\n",
       "    <tr>\n",
       "      <th>45280</th>\n",
       "      <td>2195</td>\n",
       "      <td>App Store</td>\n",
       "      <td>many false information cant ignore cant hide r...</td>\n",
       "      <td>1</td>\n",
       "      <td>2023-12-13 19:25:04</td>\n",
       "    </tr>\n",
       "    <tr>\n",
       "      <th>45281</th>\n",
       "      <td>2196</td>\n",
       "      <td>App Store</td>\n",
       "      <td>app malfunction constantly wont let post anyth...</td>\n",
       "      <td>1</td>\n",
       "      <td>2023-12-13 03:01:16</td>\n",
       "    </tr>\n",
       "    <tr>\n",
       "      <th>45282</th>\n",
       "      <td>2197</td>\n",
       "      <td>App Store</td>\n",
       "      <td>thread messaging thread weaving fabric life</td>\n",
       "      <td>5</td>\n",
       "      <td>2023-11-29 13:49:52</td>\n",
       "    </tr>\n",
       "    <tr>\n",
       "      <th>45283</th>\n",
       "      <td>2198</td>\n",
       "      <td>App Store</td>\n",
       "      <td>white house need account</td>\n",
       "      <td>5</td>\n",
       "      <td>2023-11-27 18:51:49</td>\n",
       "    </tr>\n",
       "    <tr>\n",
       "      <th>45284</th>\n",
       "      <td>2199</td>\n",
       "      <td>App Store</td>\n",
       "      <td>see thread great way increase steady messaging...</td>\n",
       "      <td>5</td>\n",
       "      <td>2023-11-19 12:21:03</td>\n",
       "    </tr>\n",
       "  </tbody>\n",
       "</table>\n",
       "<p>45285 rows × 5 columns</p>\n",
       "</div>"
      ],
      "text/plain": [
       "       Unnamed: 0       source  \\\n",
       "0               0  Google Play   \n",
       "1               1  Google Play   \n",
       "2               2  Google Play   \n",
       "3               3  Google Play   \n",
       "4               4  Google Play   \n",
       "...           ...          ...   \n",
       "45280        2195    App Store   \n",
       "45281        2196    App Store   \n",
       "45282        2197    App Store   \n",
       "45283        2198    App Store   \n",
       "45284        2199    App Store   \n",
       "\n",
       "                                      review_description  rating  \\\n",
       "0      thread meta fantastic app staying connected cl...       5   \n",
       "1                                  nothing scammer trust       1   \n",
       "2                                                awesome       5   \n",
       "3                                               nice app       3   \n",
       "4                            great alternative twitter x       5   \n",
       "...                                                  ...     ...   \n",
       "45280  many false information cant ignore cant hide r...       1   \n",
       "45281  app malfunction constantly wont let post anyth...       1   \n",
       "45282        thread messaging thread weaving fabric life       5   \n",
       "45283                           white house need account       5   \n",
       "45284  see thread great way increase steady messaging...       5   \n",
       "\n",
       "               review_date  \n",
       "0      2024-01-03 10:16:17  \n",
       "1      2024-01-01 13:36:11  \n",
       "2      2023-12-17 22:40:19  \n",
       "3      2023-12-14 01:49:26  \n",
       "4      2023-12-08 19:32:42  \n",
       "...                    ...  \n",
       "45280  2023-12-13 19:25:04  \n",
       "45281  2023-12-13 03:01:16  \n",
       "45282  2023-11-29 13:49:52  \n",
       "45283  2023-11-27 18:51:49  \n",
       "45284  2023-11-19 12:21:03  \n",
       "\n",
       "[45285 rows x 5 columns]"
      ]
     },
     "execution_count": 37,
     "metadata": {},
     "output_type": "execute_result"
    }
   ],
   "source": [
    "df = pd.read_csv('cleaned_data.csv')\n",
    "#df = df.drop(columns=['Unnamed: 0'])\n",
    "df"
   ]
  },
  {
   "cell_type": "code",
   "execution_count": 44,
   "id": "b975204b-bed9-4921-8b70-ab45d64f36d6",
   "metadata": {},
   "outputs": [
    {
     "name": "stdout",
     "output_type": "stream",
     "text": [
      "thread awesome best mean instagram thread god bless lot love\n"
     ]
    }
   ],
   "source": [
    "example = df['review_description'][421]\n",
    "print(example)"
   ]
  },
  {
   "cell_type": "code",
   "execution_count": 45,
   "id": "7e00210e-c5e6-4112-8872-79b047c696e5",
   "metadata": {},
   "outputs": [
    {
     "data": {
      "text/plain": [
       "['thread',\n",
       " 'awesome',\n",
       " 'best',\n",
       " 'mean',\n",
       " 'instagram',\n",
       " 'thread',\n",
       " 'god',\n",
       " 'bless',\n",
       " 'lot',\n",
       " 'love']"
      ]
     },
     "execution_count": 45,
     "metadata": {},
     "output_type": "execute_result"
    }
   ],
   "source": [
    "tokens = nltk.word_tokenize(example)\n",
    "tokens[:10]"
   ]
  },
  {
   "cell_type": "code",
   "execution_count": 25,
   "id": "88a144db-b182-465e-8402-934957c50eaa",
   "metadata": {},
   "outputs": [
    {
     "name": "stderr",
     "output_type": "stream",
     "text": [
      "[nltk_data] Downloading package averaged_perceptron_tagger to\n",
      "[nltk_data]     C:\\Users\\DeLL\\AppData\\Roaming\\nltk_data...\n",
      "[nltk_data]   Package averaged_perceptron_tagger is already up-to-\n",
      "[nltk_data]       date!\n",
      "[nltk_data] Downloading package maxent_ne_chunker to\n",
      "[nltk_data]     C:\\Users\\DeLL\\AppData\\Roaming\\nltk_data...\n",
      "[nltk_data]   Package maxent_ne_chunker is already up-to-date!\n",
      "[nltk_data] Downloading package words to\n",
      "[nltk_data]     C:\\Users\\DeLL\\AppData\\Roaming\\nltk_data...\n",
      "[nltk_data]   Package words is already up-to-date!\n",
      "[nltk_data] Downloading package vader_lexicon to\n",
      "[nltk_data]     C:\\Users\\DeLL\\AppData\\Roaming\\nltk_data...\n"
     ]
    },
    {
     "data": {
      "text/plain": [
       "True"
      ]
     },
     "execution_count": 25,
     "metadata": {},
     "output_type": "execute_result"
    }
   ],
   "source": [
    "nltk.download('averaged_perceptron_tagger')\n",
    "nltk.download('maxent_ne_chunker')\n",
    "nltk.download('words')\n",
    "nltk.download('vader_lexicon')"
   ]
  },
  {
   "cell_type": "code",
   "execution_count": 46,
   "id": "ba52a2ec-573a-442e-b42f-40096511d6f6",
   "metadata": {},
   "outputs": [
    {
     "data": {
      "text/plain": [
       "[('thread', 'JJ'),\n",
       " ('awesome', 'JJ'),\n",
       " ('best', 'JJS'),\n",
       " ('mean', 'JJ'),\n",
       " ('instagram', 'NN'),\n",
       " ('thread', 'NN'),\n",
       " ('god', 'NN'),\n",
       " ('bless', 'NN'),\n",
       " ('lot', 'NN'),\n",
       " ('love', 'VB')]"
      ]
     },
     "execution_count": 46,
     "metadata": {},
     "output_type": "execute_result"
    }
   ],
   "source": [
    "tagged = nltk.pos_tag(tokens)\n",
    "tagged[:10]"
   ]
  },
  {
   "cell_type": "code",
   "execution_count": 47,
   "id": "1a270b10-dfaf-43ff-bdff-d9803e10a853",
   "metadata": {},
   "outputs": [
    {
     "name": "stdout",
     "output_type": "stream",
     "text": [
      "(S\n",
      "  thread/JJ\n",
      "  awesome/JJ\n",
      "  best/JJS\n",
      "  mean/JJ\n",
      "  instagram/NN\n",
      "  thread/NN\n",
      "  god/NN\n",
      "  bless/NN\n",
      "  lot/NN\n",
      "  love/VB)\n"
     ]
    }
   ],
   "source": [
    "entities = nltk.chunk.ne_chunk(tagged)\n",
    "entities.pprint()"
   ]
  },
  {
   "cell_type": "code",
   "execution_count": 48,
   "id": "b36ee4da-1dff-47d6-951b-8c3c36385c1d",
   "metadata": {},
   "outputs": [],
   "source": [
    "from nltk.sentiment import SentimentIntensityAnalyzer\n",
    "from tqdm.notebook import tqdm\n",
    "\n",
    "sia = SentimentIntensityAnalyzer()"
   ]
  },
  {
   "cell_type": "code",
   "execution_count": 27,
   "id": "e3937591-2ff8-4e88-bba8-53598f4a583f",
   "metadata": {},
   "outputs": [
    {
     "data": {
      "text/plain": [
       "{'neg': 0.0, 'neu': 0.318, 'pos': 0.682, 'compound': 0.6468}"
      ]
     },
     "execution_count": 27,
     "metadata": {},
     "output_type": "execute_result"
    }
   ],
   "source": [
    "sia.polarity_scores('I am so happy!')"
   ]
  },
  {
   "cell_type": "code",
   "execution_count": 28,
   "id": "e35417b3-3685-495c-97a2-5f2f97dfdb52",
   "metadata": {},
   "outputs": [
    {
     "data": {
      "text/plain": [
       "{'neg': 0.451, 'neu': 0.549, 'pos': 0.0, 'compound': -0.6249}"
      ]
     },
     "execution_count": 28,
     "metadata": {},
     "output_type": "execute_result"
    }
   ],
   "source": [
    "sia.polarity_scores('This is the worst thing ever.')"
   ]
  },
  {
   "cell_type": "code",
   "execution_count": 49,
   "id": "9bb5ae48-4dab-4846-ba39-679ab8dbc99e",
   "metadata": {},
   "outputs": [
    {
     "data": {
      "text/plain": [
       "{'neg': 0.0, 'neu': 0.223, 'pos': 0.777, 'compound': 0.9545}"
      ]
     },
     "execution_count": 49,
     "metadata": {},
     "output_type": "execute_result"
    }
   ],
   "source": [
    "sia.polarity_scores(example)"
   ]
  },
  {
   "cell_type": "code",
   "execution_count": 40,
   "id": "d0eef773-0b91-46e4-800e-e7d6bc09d7e1",
   "metadata": {},
   "outputs": [],
   "source": [
    "from transformers import AutoTokenizer\n",
    "from transformers import AutoModelForSequenceClassification\n",
    "from scipy.special import softmax"
   ]
  },
  {
   "cell_type": "code",
   "execution_count": 41,
   "id": "48f456f1-47e2-49ff-99d0-f531aa7703b5",
   "metadata": {},
   "outputs": [
    {
     "data": {
      "application/vnd.jupyter.widget-view+json": {
       "model_id": "67794a4388914a44a205e7aad919f68f",
       "version_major": 2,
       "version_minor": 0
      },
      "text/plain": [
       "config.json:   0%|          | 0.00/747 [00:00<?, ?B/s]"
      ]
     },
     "metadata": {},
     "output_type": "display_data"
    },
    {
     "name": "stderr",
     "output_type": "stream",
     "text": [
      "D:\\anaconda3\\lib\\site-packages\\huggingface_hub\\file_download.py:149: UserWarning: `huggingface_hub` cache-system uses symlinks by default to efficiently store duplicated files but your machine does not support them in C:\\Users\\DeLL\\.cache\\huggingface\\hub\\models--cardiffnlp--twitter-roberta-base-sentiment. Caching files will still work but in a degraded version that might require more space on your disk. This warning can be disabled by setting the `HF_HUB_DISABLE_SYMLINKS_WARNING` environment variable. For more details, see https://huggingface.co/docs/huggingface_hub/how-to-cache#limitations.\n",
      "To support symlinks on Windows, you either need to activate Developer Mode or to run Python as an administrator. In order to see activate developer mode, see this article: https://docs.microsoft.com/en-us/windows/apps/get-started/enable-your-device-for-development\n",
      "  warnings.warn(message)\n"
     ]
    },
    {
     "data": {
      "application/vnd.jupyter.widget-view+json": {
       "model_id": "e96676d7c5ce4c26aac0e2af76c90a4e",
       "version_major": 2,
       "version_minor": 0
      },
      "text/plain": [
       "vocab.json:   0%|          | 0.00/899k [00:00<?, ?B/s]"
      ]
     },
     "metadata": {},
     "output_type": "display_data"
    },
    {
     "data": {
      "application/vnd.jupyter.widget-view+json": {
       "model_id": "84149487ce36436ab1ec95d4621fa7c6",
       "version_major": 2,
       "version_minor": 0
      },
      "text/plain": [
       "merges.txt:   0%|          | 0.00/456k [00:00<?, ?B/s]"
      ]
     },
     "metadata": {},
     "output_type": "display_data"
    },
    {
     "data": {
      "application/vnd.jupyter.widget-view+json": {
       "model_id": "1daecf7d5bec43d68b42fe3d6a925b45",
       "version_major": 2,
       "version_minor": 0
      },
      "text/plain": [
       "special_tokens_map.json:   0%|          | 0.00/150 [00:00<?, ?B/s]"
      ]
     },
     "metadata": {},
     "output_type": "display_data"
    },
    {
     "data": {
      "application/vnd.jupyter.widget-view+json": {
       "model_id": "9383b56be8c444cebfef13971bc4d0b0",
       "version_major": 2,
       "version_minor": 0
      },
      "text/plain": [
       "pytorch_model.bin:   0%|          | 0.00/499M [00:00<?, ?B/s]"
      ]
     },
     "metadata": {},
     "output_type": "display_data"
    }
   ],
   "source": [
    "MODEL = f\"cardiffnlp/twitter-roberta-base-sentiment\"\n",
    "tokenizer = AutoTokenizer.from_pretrained(MODEL)\n",
    "model = AutoModelForSequenceClassification.from_pretrained(MODEL)"
   ]
  },
  {
   "cell_type": "code",
   "execution_count": 50,
   "id": "aa0adfaa-1c1d-456f-a5d2-6c6ad520af86",
   "metadata": {},
   "outputs": [
    {
     "name": "stdout",
     "output_type": "stream",
     "text": [
      "thread awesome best mean instagram thread god bless lot love\n"
     ]
    },
    {
     "data": {
      "text/plain": [
       "{'neg': 0.0, 'neu': 0.223, 'pos': 0.777, 'compound': 0.9545}"
      ]
     },
     "execution_count": 50,
     "metadata": {},
     "output_type": "execute_result"
    }
   ],
   "source": [
    "# VADER results on example\n",
    "print(example)\n",
    "sia.polarity_scores(example)"
   ]
  },
  {
   "cell_type": "code",
   "execution_count": 51,
   "id": "a694fc88-03c1-439e-a1c8-d6b4413ee55a",
   "metadata": {},
   "outputs": [
    {
     "name": "stdout",
     "output_type": "stream",
     "text": [
      "{'roberta_neg': 0.0020494338, 'roberta_neu': 0.012456189, 'roberta_pos': 0.9854944}\n"
     ]
    }
   ],
   "source": [
    "# Run for Roberta Model\n",
    "encoded_text = tokenizer(example, return_tensors='pt')\n",
    "output = model(**encoded_text)\n",
    "scores = output[0][0].detach().numpy()\n",
    "scores = softmax(scores)\n",
    "scores_dict = {\n",
    "    'roberta_neg' : scores[0],\n",
    "    'roberta_neu' : scores[1],\n",
    "    'roberta_pos' : scores[2]\n",
    "}\n",
    "print(scores_dict)"
   ]
  },
  {
   "cell_type": "code",
   "execution_count": 52,
   "id": "175735d2-6fa5-42f9-b2c6-7c91b2e0547e",
   "metadata": {},
   "outputs": [],
   "source": [
    "def polarity_scores_roberta(example):\n",
    "    encoded_text = tokenizer(example, return_tensors='pt')\n",
    "    output = model(**encoded_text)\n",
    "    scores = output[0][0].detach().numpy()\n",
    "    scores = softmax(scores)\n",
    "    scores_dict = {\n",
    "        'roberta_neg' : scores[0],\n",
    "        'roberta_neu' : scores[1],\n",
    "        'roberta_pos' : scores[2]\n",
    "    }\n",
    "    return scores_dict"
   ]
  },
  {
   "cell_type": "code",
   "execution_count": 55,
   "id": "e1ff853d-77d2-44e9-b98e-023987b4c480",
   "metadata": {},
   "outputs": [
    {
     "name": "stderr",
     "output_type": "stream",
     "text": [
      "No model was supplied, defaulted to distilbert-base-uncased-finetuned-sst-2-english and revision af0f99b (https://huggingface.co/distilbert-base-uncased-finetuned-sst-2-english).\n",
      "Using a pipeline without specifying a model name and revision in production is not recommended.\n"
     ]
    },
    {
     "data": {
      "application/vnd.jupyter.widget-view+json": {
       "model_id": "9c2a6c26e947431d94bab390ea2950f9",
       "version_major": 2,
       "version_minor": 0
      },
      "text/plain": [
       "config.json:   0%|          | 0.00/629 [00:00<?, ?B/s]"
      ]
     },
     "metadata": {},
     "output_type": "display_data"
    },
    {
     "name": "stderr",
     "output_type": "stream",
     "text": [
      "D:\\anaconda3\\lib\\site-packages\\huggingface_hub\\file_download.py:149: UserWarning: `huggingface_hub` cache-system uses symlinks by default to efficiently store duplicated files but your machine does not support them in C:\\Users\\DeLL\\.cache\\huggingface\\hub\\models--distilbert-base-uncased-finetuned-sst-2-english. Caching files will still work but in a degraded version that might require more space on your disk. This warning can be disabled by setting the `HF_HUB_DISABLE_SYMLINKS_WARNING` environment variable. For more details, see https://huggingface.co/docs/huggingface_hub/how-to-cache#limitations.\n",
      "To support symlinks on Windows, you either need to activate Developer Mode or to run Python as an administrator. In order to see activate developer mode, see this article: https://docs.microsoft.com/en-us/windows/apps/get-started/enable-your-device-for-development\n",
      "  warnings.warn(message)\n"
     ]
    },
    {
     "data": {
      "application/vnd.jupyter.widget-view+json": {
       "model_id": "47922a69759e412ca87114c2a87e9bdf",
       "version_major": 2,
       "version_minor": 0
      },
      "text/plain": [
       "model.safetensors:   0%|          | 0.00/268M [00:00<?, ?B/s]"
      ]
     },
     "metadata": {},
     "output_type": "display_data"
    },
    {
     "data": {
      "application/vnd.jupyter.widget-view+json": {
       "model_id": "5b6ca0a30f9645f8b5e9e38faf9f5e92",
       "version_major": 2,
       "version_minor": 0
      },
      "text/plain": [
       "tokenizer_config.json:   0%|          | 0.00/48.0 [00:00<?, ?B/s]"
      ]
     },
     "metadata": {},
     "output_type": "display_data"
    },
    {
     "data": {
      "application/vnd.jupyter.widget-view+json": {
       "model_id": "013ff3d7ffbf44f5911626a1835e929b",
       "version_major": 2,
       "version_minor": 0
      },
      "text/plain": [
       "vocab.txt:   0%|          | 0.00/232k [00:00<?, ?B/s]"
      ]
     },
     "metadata": {},
     "output_type": "display_data"
    }
   ],
   "source": [
    "from transformers import pipeline\n",
    "\n",
    "sent_pipeline = pipeline(\"sentiment-analysis\")"
   ]
  },
  {
   "cell_type": "code",
   "execution_count": 66,
   "id": "cec20b00-d6fb-439a-a05e-06eb2a2d310c",
   "metadata": {},
   "outputs": [
    {
     "data": {
      "text/plain": [
       "[{'label': 'NEGATIVE', 'score': 0.9994887113571167}]"
      ]
     },
     "execution_count": 66,
     "metadata": {},
     "output_type": "execute_result"
    }
   ],
   "source": [
    "sent_pipeline('somehow mixed topic worst algorithm social medium censor ban freedom speech doesnt exist')"
   ]
  },
  {
   "cell_type": "code",
   "execution_count": 72,
   "id": "fdcabb2a-607a-4bd3-a26e-35b6982d6774",
   "metadata": {},
   "outputs": [
    {
     "data": {
      "text/plain": [
       "[{'label': 'NEGATIVE', 'score': 0.9982979893684387}]"
      ]
     },
     "execution_count": 72,
     "metadata": {},
     "output_type": "execute_result"
    }
   ],
   "source": [
    "sent_pipeline('need stop hiding friend feed secondary page add something like hashtags topic following find way quickly change direction main page full random people lot political hate speach side becoming worse twitter longer see political post twitter dont follow political poster')"
   ]
  },
  {
   "cell_type": "code",
   "execution_count": 69,
   "id": "e19d91c6-ba32-4afa-96e2-e65154c7db60",
   "metadata": {},
   "outputs": [
    {
     "data": {
      "text/plain": [
       "[{'label': 'NEGATIVE', 'score': 0.9916274547576904}]"
      ]
     },
     "execution_count": 69,
     "metadata": {},
     "output_type": "execute_result"
    }
   ],
   "source": [
    "sent_pipeline('whats point using app there instagram')"
   ]
  },
  {
   "cell_type": "code",
   "execution_count": 70,
   "id": "6a3c4f88-81ee-4bf5-baea-e492ac970a3d",
   "metadata": {},
   "outputs": [
    {
     "data": {
      "text/plain": [
       "[{'label': 'POSITIVE', 'score': 0.997986912727356}]"
      ]
     },
     "execution_count": 70,
     "metadata": {},
     "output_type": "execute_result"
    }
   ],
   "source": [
    "sent_pipeline('feel significantly cozy low key social medium')"
   ]
  },
  {
   "cell_type": "code",
   "execution_count": null,
   "id": "3fce5405-a8cd-41bc-ac08-5b694f9ad7b1",
   "metadata": {},
   "outputs": [],
   "source": []
  }
 ],
 "metadata": {
  "kernelspec": {
   "display_name": "Python 3 (ipykernel)",
   "language": "python",
   "name": "python3"
  },
  "language_info": {
   "codemirror_mode": {
    "name": "ipython",
    "version": 3
   },
   "file_extension": ".py",
   "mimetype": "text/x-python",
   "name": "python",
   "nbconvert_exporter": "python",
   "pygments_lexer": "ipython3",
   "version": "3.9.13"
  }
 },
 "nbformat": 4,
 "nbformat_minor": 5
}
